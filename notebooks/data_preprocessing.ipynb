{
 "cells": [
  {
   "cell_type": "markdown",
   "id": "abfc15ab",
   "metadata": {},
   "source": [
    "## Import Libraries"
   ]
  },
  {
   "cell_type": "code",
   "execution_count": 1,
   "id": "65ca9f9a",
   "metadata": {},
   "outputs": [
    {
     "name": "stderr",
     "output_type": "stream",
     "text": [
      "c:\\Users\\የአብትዕግስት\\AppData\\Local\\Programs\\Python\\Python313\\Lib\\site-packages\\tqdm\\auto.py:21: TqdmWarning: IProgress not found. Please update jupyter and ipywidgets. See https://ipywidgets.readthedocs.io/en/stable/user_install.html\n",
      "  from .autonotebook import tqdm as notebook_tqdm\n"
     ]
    }
   ],
   "source": [
    "import pandas as pd\n",
    "import numpy as np\n",
    "import matplotlib.pyplot as plt\n",
    "import seaborn as sns\n",
    "from sklearn.model_selection import train_test_split\n",
    "from sklearn.preprocessing import StandardScaler, OneHotEncoder\n",
    "from sklearn.impute import SimpleImputer\n",
    "from sklearn.compose import ColumnTransformer\n",
    "from sklearn.pipeline import Pipeline\n",
    "from sklearn.ensemble import RandomForestClassifier\n",
    "from sklearn.linear_model import LogisticRegression\n",
    "from sklearn.metrics import classification_report, roc_auc_score, precision_recall_curve, auc\n",
    "import shap\n",
    "\n",
    "# Set style for plots\n",
    "plt.style.use('seaborn-v0_8')"
   ]
  },
  {
   "cell_type": "markdown",
   "id": "cade9a7e",
   "metadata": {},
   "source": [
    "## load datasets"
   ]
  },
  {
   "cell_type": "code",
   "execution_count": 2,
   "id": "185fcee7",
   "metadata": {},
   "outputs": [],
   "source": [
    "fraud_data = pd.read_csv('../data/Fraud_Data.csv')\n",
    "ip_country = pd.read_csv('../data/IpAddress_to_Country.csv')\n",
    "creditcard_data = pd.read_csv('../data/creditcard.csv')"
   ]
  },
  {
   "cell_type": "markdown",
   "id": "96984e01",
   "metadata": {},
   "source": [
    "## Display basic info for each dataset"
   ]
  },
  {
   "cell_type": "code",
   "execution_count": 3,
   "id": "ee6e46aa",
   "metadata": {},
   "outputs": [],
   "source": [
    "def inspect_dataset(df, name):\n",
    "    print(f\"\\n{'='*40}\")\n",
    "    print(f\"Inspecting: {name}\")\n",
    "    print(f\"{'='*40}\")\n",
    "    print(\"Shape:\", df.shape)\n",
    "    print(\"\\nFirst 3 rows:\")\n",
    "    print(df.head(3))\n",
    "    print(\"\\nData types:\")\n",
    "    print(df.dtypes)\n",
    "    print(\"\\nMissing values:\")\n",
    "    print(df.isnull().sum())\n",
    "    print(\"\\nNumber of duplicates:\", df.duplicated().sum())"
   ]
  },
  {
   "cell_type": "markdown",
   "id": "1503e777",
   "metadata": {},
   "source": [
    "## Run inspection"
   ]
  },
  {
   "cell_type": "code",
   "execution_count": 4,
   "id": "c6aaf372",
   "metadata": {},
   "outputs": [
    {
     "name": "stdout",
     "output_type": "stream",
     "text": [
      "\n",
      "========================================\n",
      "Inspecting: Fraud_Data.csv\n",
      "========================================\n",
      "Shape: (151112, 11)\n",
      "\n",
      "First 3 rows:\n",
      "   user_id          signup_time        purchase_time  purchase_value  \\\n",
      "0    22058  2015-02-24 22:55:49  2015-04-18 02:47:11              34   \n",
      "1   333320  2015-06-07 20:39:50  2015-06-08 01:38:54              16   \n",
      "2     1359  2015-01-01 18:52:44  2015-01-01 18:52:45              15   \n",
      "\n",
      "       device_id source browser sex  age    ip_address  class  \n",
      "0  QVPSPJUOCKZAR    SEO  Chrome   M   39  7.327584e+08      0  \n",
      "1  EOGFQPIZPYXFZ    Ads  Chrome   F   53  3.503114e+08      0  \n",
      "2  YSSKYOSJHPPLJ    SEO   Opera   M   53  2.621474e+09      1  \n",
      "\n",
      "Data types:\n",
      "user_id             int64\n",
      "signup_time        object\n",
      "purchase_time      object\n",
      "purchase_value      int64\n",
      "device_id          object\n",
      "source             object\n",
      "browser            object\n",
      "sex                object\n",
      "age                 int64\n",
      "ip_address        float64\n",
      "class               int64\n",
      "dtype: object\n",
      "\n",
      "Missing values:\n",
      "user_id           0\n",
      "signup_time       0\n",
      "purchase_time     0\n",
      "purchase_value    0\n",
      "device_id         0\n",
      "source            0\n",
      "browser           0\n",
      "sex               0\n",
      "age               0\n",
      "ip_address        0\n",
      "class             0\n",
      "dtype: int64\n",
      "\n",
      "Number of duplicates: 0\n"
     ]
    }
   ],
   "source": [
    "inspect_dataset(fraud_data, \"Fraud_Data.csv\")"
   ]
  },
  {
   "cell_type": "code",
   "execution_count": 5,
   "id": "0e326394",
   "metadata": {},
   "outputs": [
    {
     "name": "stdout",
     "output_type": "stream",
     "text": [
      "\n",
      "========================================\n",
      "Inspecting: IpAddress_to_Country.csv\n",
      "========================================\n",
      "Shape: (138846, 3)\n",
      "\n",
      "First 3 rows:\n",
      "   lower_bound_ip_address  upper_bound_ip_address    country\n",
      "0              16777216.0                16777471  Australia\n",
      "1              16777472.0                16777727      China\n",
      "2              16777728.0                16778239      China\n",
      "\n",
      "Data types:\n",
      "lower_bound_ip_address    float64\n",
      "upper_bound_ip_address      int64\n",
      "country                    object\n",
      "dtype: object\n",
      "\n",
      "Missing values:\n",
      "lower_bound_ip_address    0\n",
      "upper_bound_ip_address    0\n",
      "country                   0\n",
      "dtype: int64\n",
      "\n",
      "Number of duplicates: 0\n"
     ]
    }
   ],
   "source": [
    "inspect_dataset(ip_country, \"IpAddress_to_Country.csv\")"
   ]
  },
  {
   "cell_type": "code",
   "execution_count": 6,
   "id": "cd7d2ddb",
   "metadata": {},
   "outputs": [
    {
     "name": "stdout",
     "output_type": "stream",
     "text": [
      "\n",
      "========================================\n",
      "Inspecting: creditcard.csv\n",
      "========================================\n",
      "Shape: (284807, 31)\n",
      "\n",
      "First 3 rows:\n",
      "   Time        V1        V2        V3        V4        V5        V6        V7  \\\n",
      "0   0.0 -1.359807 -0.072781  2.536347  1.378155 -0.338321  0.462388  0.239599   \n",
      "1   0.0  1.191857  0.266151  0.166480  0.448154  0.060018 -0.082361 -0.078803   \n",
      "2   1.0 -1.358354 -1.340163  1.773209  0.379780 -0.503198  1.800499  0.791461   \n",
      "\n",
      "         V8        V9  ...       V21       V22       V23       V24       V25  \\\n",
      "0  0.098698  0.363787  ... -0.018307  0.277838 -0.110474  0.066928  0.128539   \n",
      "1  0.085102 -0.255425  ... -0.225775 -0.638672  0.101288 -0.339846  0.167170   \n",
      "2  0.247676 -1.514654  ...  0.247998  0.771679  0.909412 -0.689281 -0.327642   \n",
      "\n",
      "        V26       V27       V28  Amount  Class  \n",
      "0 -0.189115  0.133558 -0.021053  149.62      0  \n",
      "1  0.125895 -0.008983  0.014724    2.69      0  \n",
      "2 -0.139097 -0.055353 -0.059752  378.66      0  \n",
      "\n",
      "[3 rows x 31 columns]\n",
      "\n",
      "Data types:\n",
      "Time      float64\n",
      "V1        float64\n",
      "V2        float64\n",
      "V3        float64\n",
      "V4        float64\n",
      "V5        float64\n",
      "V6        float64\n",
      "V7        float64\n",
      "V8        float64\n",
      "V9        float64\n",
      "V10       float64\n",
      "V11       float64\n",
      "V12       float64\n",
      "V13       float64\n",
      "V14       float64\n",
      "V15       float64\n",
      "V16       float64\n",
      "V17       float64\n",
      "V18       float64\n",
      "V19       float64\n",
      "V20       float64\n",
      "V21       float64\n",
      "V22       float64\n",
      "V23       float64\n",
      "V24       float64\n",
      "V25       float64\n",
      "V26       float64\n",
      "V27       float64\n",
      "V28       float64\n",
      "Amount    float64\n",
      "Class       int64\n",
      "dtype: object\n",
      "\n",
      "Missing values:\n",
      "Time      0\n",
      "V1        0\n",
      "V2        0\n",
      "V3        0\n",
      "V4        0\n",
      "V5        0\n",
      "V6        0\n",
      "V7        0\n",
      "V8        0\n",
      "V9        0\n",
      "V10       0\n",
      "V11       0\n",
      "V12       0\n",
      "V13       0\n",
      "V14       0\n",
      "V15       0\n",
      "V16       0\n",
      "V17       0\n",
      "V18       0\n",
      "V19       0\n",
      "V20       0\n",
      "V21       0\n",
      "V22       0\n",
      "V23       0\n",
      "V24       0\n",
      "V25       0\n",
      "V26       0\n",
      "V27       0\n",
      "V28       0\n",
      "Amount    0\n",
      "Class     0\n",
      "dtype: int64\n",
      "\n",
      "Number of duplicates: 1081\n"
     ]
    }
   ],
   "source": [
    "inspect_dataset(creditcard_data, \"creditcard.csv\")"
   ]
  },
  {
   "cell_type": "markdown",
   "id": "3d44ef80",
   "metadata": {},
   "source": [
    "## Clean and Preprocess Data"
   ]
  },
  {
   "cell_type": "markdown",
   "id": "6f358ee6",
   "metadata": {},
   "source": [
    "### Handle Missing Values"
   ]
  },
  {
   "cell_type": "markdown",
   "id": "df1bc017",
   "metadata": {},
   "source": [
    "#### Check for missing values"
   ]
  },
  {
   "cell_type": "code",
   "execution_count": 7,
   "id": "c790367a",
   "metadata": {},
   "outputs": [
    {
     "name": "stdout",
     "output_type": "stream",
     "text": [
      "\n",
      "Missing Values in Fraud Data:\n",
      "user_id           0\n",
      "signup_time       0\n",
      "purchase_time     0\n",
      "purchase_value    0\n",
      "device_id         0\n",
      "source            0\n",
      "browser           0\n",
      "sex               0\n",
      "age               0\n",
      "ip_address        0\n",
      "class             0\n",
      "dtype: int64\n"
     ]
    }
   ],
   "source": [
    "print(\"\\nMissing Values in Fraud Data:\")\n",
    "print(fraud_data.isnull().sum())"
   ]
  },
  {
   "cell_type": "code",
   "execution_count": 8,
   "id": "5f6c4b0e",
   "metadata": {},
   "outputs": [
    {
     "name": "stdout",
     "output_type": "stream",
     "text": [
      "\n",
      "Missing Values in ip_country Data:\n",
      "lower_bound_ip_address    0\n",
      "upper_bound_ip_address    0\n",
      "country                   0\n",
      "dtype: int64\n"
     ]
    }
   ],
   "source": [
    "print(\"\\nMissing Values in ip_country Data:\")\n",
    "print(ip_country.isnull().sum())"
   ]
  },
  {
   "cell_type": "code",
   "execution_count": 9,
   "id": "63329fe5",
   "metadata": {},
   "outputs": [
    {
     "name": "stdout",
     "output_type": "stream",
     "text": [
      "\n",
      "Missing Values in creditcard Data:\n",
      "Time      0\n",
      "V1        0\n",
      "V2        0\n",
      "V3        0\n",
      "V4        0\n",
      "V5        0\n",
      "V6        0\n",
      "V7        0\n",
      "V8        0\n",
      "V9        0\n",
      "V10       0\n",
      "V11       0\n",
      "V12       0\n",
      "V13       0\n",
      "V14       0\n",
      "V15       0\n",
      "V16       0\n",
      "V17       0\n",
      "V18       0\n",
      "V19       0\n",
      "V20       0\n",
      "V21       0\n",
      "V22       0\n",
      "V23       0\n",
      "V24       0\n",
      "V25       0\n",
      "V26       0\n",
      "V27       0\n",
      "V28       0\n",
      "Amount    0\n",
      "Class     0\n",
      "dtype: int64\n"
     ]
    }
   ],
   "source": [
    "\n",
    "print(\"\\nMissing Values in creditcard Data:\")\n",
    "print(creditcard_data.isnull().sum())"
   ]
  },
  {
   "cell_type": "markdown",
   "id": "680ccb13",
   "metadata": {},
   "source": [
    "#### Note: <p> No missing values found, so no imputation/dropping needed</p>"
   ]
  },
  {
   "cell_type": "markdown",
   "id": "ae7ac846",
   "metadata": {},
   "source": [
    "### Convert TimeStamps in to DateTime"
   ]
  },
  {
   "cell_type": "code",
   "execution_count": 10,
   "id": "c6864ee6",
   "metadata": {},
   "outputs": [],
   "source": [
    "fraud_data['signup_time'] = pd.to_datetime(fraud_data['signup_time'])\n",
    "fraud_data['purchase_time'] = pd.to_datetime(fraud_data['purchase_time'])"
   ]
  },
  {
   "cell_type": "markdown",
   "id": "8d7f2127",
   "metadata": {},
   "source": [
    "### Create Time-Based Features"
   ]
  },
  {
   "cell_type": "code",
   "execution_count": 11,
   "id": "56249a26",
   "metadata": {},
   "outputs": [],
   "source": [
    "# Extract time-based features\n",
    "fraud_data['purchase_hour'] = fraud_data['purchase_time'].dt.hour\n",
    "fraud_data['purchase_day_of_week'] = fraud_data['purchase_time'].dt.dayofweek\n",
    "fraud_data['time_since_signup'] = (fraud_data['purchase_time'] - fraud_data['signup_time']).dt.total_seconds() / 3600  # in hours\n"
   ]
  },
  {
   "cell_type": "markdown",
   "id": "0f6c9dd7",
   "metadata": {},
   "source": [
    "### IP Address GeoLocation Mapping"
   ]
  },
  {
   "cell_type": "markdown",
   "id": "07e1ec8b",
   "metadata": {},
   "source": [
    "#### Converting IP Address in to numeric format for matching"
   ]
  },
  {
   "cell_type": "code",
   "execution_count": 12,
   "id": "a1d86aa3",
   "metadata": {},
   "outputs": [],
   "source": [
    "def ip_to_numeric(ip):\n",
    "    parts = ip.split('.')\n",
    "    return int(parts[0]) * 256**3 + int(parts[1]) * 256**2 + int(parts[2]) * 256 + int(parts[3])"
   ]
  },
  {
   "cell_type": "markdown",
   "id": "9a0279de",
   "metadata": {},
   "source": [
    "#### Apply to fraud data"
   ]
  },
  {
   "cell_type": "code",
   "execution_count": 14,
   "id": "818715cc",
   "metadata": {},
   "outputs": [],
   "source": [
    "def int_to_ip(ip_num):\n",
    "\tip_num = int(ip_num)\n",
    "\treturn '.'.join([str((ip_num >> (i * 8)) & 0xFF) for i in range(3, -1, -1)])\n",
    "\n",
    "fraud_data['ip_numeric'] = fraud_data['ip_address'].apply(lambda x: ip_to_numeric(int_to_ip(x)))"
   ]
  },
  {
   "cell_type": "markdown",
   "id": "ae943ac1",
   "metadata": {},
   "source": [
    "#### Convert IP Country code to numeric "
   ]
  },
  {
   "cell_type": "code",
   "execution_count": 16,
   "id": "af5d046a",
   "metadata": {},
   "outputs": [],
   "source": [
    "ip_country['lower_bound'] = ip_country['lower_bound_ip_address'].astype(int)\n",
    "ip_country['upper_bound'] = ip_country['upper_bound_ip_address'].astype(int)"
   ]
  },
  {
   "cell_type": "markdown",
   "id": "257b63d5",
   "metadata": {},
   "source": [
    "#### Function to find country for IP"
   ]
  },
  {
   "cell_type": "code",
   "execution_count": 17,
   "id": "3489df18",
   "metadata": {},
   "outputs": [],
   "source": [
    "def get_country(ip_num):\n",
    "    match = ip_country[(ip_country['lower_bound'] <= ip_num) & (ip_country['upper_bound'] >= ip_num)]\n",
    "    return match['country'].iloc[0] if not match.empty else 'Unknown'"
   ]
  },
  {
   "cell_type": "markdown",
   "id": "3f60f980",
   "metadata": {},
   "source": [
    "#### Map IPS for Countries"
   ]
  },
  {
   "cell_type": "code",
   "execution_count": 18,
   "id": "a9677fe3",
   "metadata": {},
   "outputs": [],
   "source": [
    "fraud_data['country'] = fraud_data['ip_numeric'].apply(get_country)"
   ]
  },
  {
   "cell_type": "markdown",
   "id": "1b812a8f",
   "metadata": {},
   "source": [
    "#### Save Prerocessed Data"
   ]
  },
  {
   "cell_type": "code",
   "execution_count": 19,
   "id": "288dd264",
   "metadata": {},
   "outputs": [
    {
     "name": "stdout",
     "output_type": "stream",
     "text": [
      "Data preprocessing completed and saved to 'data' directory\n"
     ]
    }
   ],
   "source": [
    "fraud_data.to_csv('../data/preprocessed_fraud_data.csv', index=False)\n",
    "creditcard_data.to_csv('../data/preprocessed_creditcard_data.csv', index=False)\n",
    "\n",
    "print(\"Data preprocessing completed and saved to 'data' directory\")"
   ]
  }
 ],
 "metadata": {
  "kernelspec": {
   "display_name": "Python 3",
   "language": "python",
   "name": "python3"
  },
  "language_info": {
   "codemirror_mode": {
    "name": "ipython",
    "version": 3
   },
   "file_extension": ".py",
   "mimetype": "text/x-python",
   "name": "python",
   "nbconvert_exporter": "python",
   "pygments_lexer": "ipython3",
   "version": "3.13.3"
  }
 },
 "nbformat": 4,
 "nbformat_minor": 5
}
